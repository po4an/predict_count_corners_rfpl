{
 "cells": [
  {
   "cell_type": "code",
   "execution_count": 149,
   "metadata": {},
   "outputs": [],
   "source": [
    "import pandas as pd\n",
    "import numpy as np"
   ]
  },
  {
   "cell_type": "code",
   "execution_count": 150,
   "metadata": {},
   "outputs": [],
   "source": [
    "df = pd.read_csv(\"resul.csv\")"
   ]
  },
  {
   "cell_type": "code",
   "execution_count": 151,
   "metadata": {},
   "outputs": [
    {
     "data": {
      "text/html": [
       "<div>\n",
       "<style scoped>\n",
       "    .dataframe tbody tr th:only-of-type {\n",
       "        vertical-align: middle;\n",
       "    }\n",
       "\n",
       "    .dataframe tbody tr th {\n",
       "        vertical-align: top;\n",
       "    }\n",
       "\n",
       "    .dataframe thead th {\n",
       "        text-align: right;\n",
       "    }\n",
       "</style>\n",
       "<table border=\"1\" class=\"dataframe\">\n",
       "  <thead>\n",
       "    <tr style=\"text-align: right;\">\n",
       "      <th></th>\n",
       "      <th>main</th>\n",
       "      <th>guest</th>\n",
       "      <th>for_1</th>\n",
       "      <th>for_2</th>\n",
       "      <th>hav_1</th>\n",
       "      <th>hav_2</th>\n",
       "      <th>corn</th>\n",
       "    </tr>\n",
       "  </thead>\n",
       "  <tbody>\n",
       "    <tr>\n",
       "      <th>0</th>\n",
       "      <td>Динамо</td>\n",
       "      <td>ЦСКА</td>\n",
       "      <td>2</td>\n",
       "      <td>1</td>\n",
       "      <td>4</td>\n",
       "      <td>5</td>\n",
       "      <td>10</td>\n",
       "    </tr>\n",
       "    <tr>\n",
       "      <th>1</th>\n",
       "      <td>Крылья</td>\n",
       "      <td>Уфа</td>\n",
       "      <td>2</td>\n",
       "      <td>1</td>\n",
       "      <td>3</td>\n",
       "      <td>5</td>\n",
       "      <td>13</td>\n",
       "    </tr>\n",
       "    <tr>\n",
       "      <th>2</th>\n",
       "      <td>Сочи</td>\n",
       "      <td>Ахмат</td>\n",
       "      <td>2</td>\n",
       "      <td>0</td>\n",
       "      <td>4</td>\n",
       "      <td>5</td>\n",
       "      <td>18</td>\n",
       "    </tr>\n",
       "    <tr>\n",
       "      <th>3</th>\n",
       "      <td>Урал</td>\n",
       "      <td>Сочи</td>\n",
       "      <td>1</td>\n",
       "      <td>2</td>\n",
       "      <td>5</td>\n",
       "      <td>5</td>\n",
       "      <td>9</td>\n",
       "    </tr>\n",
       "    <tr>\n",
       "      <th>4</th>\n",
       "      <td>Сочи</td>\n",
       "      <td>Краснодар</td>\n",
       "      <td>3</td>\n",
       "      <td>3</td>\n",
       "      <td>2</td>\n",
       "      <td>3</td>\n",
       "      <td>14</td>\n",
       "    </tr>\n",
       "  </tbody>\n",
       "</table>\n",
       "</div>"
      ],
      "text/plain": [
       "     main      guest  for_1  for_2  hav_1  hav_2  corn\n",
       "0  Динамо       ЦСКА      2      1      4      5    10\n",
       "1  Крылья        Уфа      2      1      3      5    13\n",
       "2    Сочи      Ахмат      2      0      4      5    18\n",
       "3    Урал       Сочи      1      2      5      5     9\n",
       "4    Сочи  Краснодар      3      3      2      3    14"
      ]
     },
     "execution_count": 151,
     "metadata": {},
     "output_type": "execute_result"
    }
   ],
   "source": [
    "df.head()"
   ]
  },
  {
   "cell_type": "code",
   "execution_count": 152,
   "metadata": {},
   "outputs": [],
   "source": [
    "df[\"def_1\"] = 10 - df[\"for_1\"] - df[\"hav_1\"]\n",
    "df[\"def_2\"] = 10 - df[\"for_2\"] - df[\"hav_2\"]"
   ]
  },
  {
   "cell_type": "code",
   "execution_count": 153,
   "metadata": {},
   "outputs": [],
   "source": [
    "X = df.drop(columns = \"corn\")\n",
    "y = df[\"corn\"]"
   ]
  },
  {
   "cell_type": "code",
   "execution_count": 154,
   "metadata": {},
   "outputs": [
    {
     "name": "stdout",
     "output_type": "stream",
     "text": [
      "{'Динамо': 0, 'Крылья': 1, 'Сочи': 2, 'Урал': 3, 'Краснодар': 4, 'Тамбов': 5, 'Ахмат': 6, 'Арсенал': 7, 'Рубин': 8, 'Локомотив': 9, 'Зенит': 10, 'Оренбург': 11, 'Спартак': 12, 'ЦСКА': 13, 'Ростов': 14, 'Уфа': 15, 'Ротор': 16, 'Химки': 17}\n"
     ]
    }
   ],
   "source": [
    "team_preprocessing = {j:i for i,j in enumerate(df[\"main\"].unique())}\n",
    "print(team_preprocessing)"
   ]
  },
  {
   "cell_type": "code",
   "execution_count": 155,
   "metadata": {},
   "outputs": [],
   "source": [
    "X[\"main\"] = X[\"main\"].map(team_preprocessing)\n",
    "X[\"guest\"] = X[\"guest\"].map(team_preprocessing)"
   ]
  },
  {
   "cell_type": "code",
   "execution_count": 156,
   "metadata": {},
   "outputs": [],
   "source": [
    "from sklearn.model_selection import train_test_split\n",
    "\n",
    "X_train, X_valid, y_train, y_valid = train_test_split(X,y,random_state = 123, test_size = 0.05)"
   ]
  },
  {
   "cell_type": "code",
   "execution_count": 157,
   "metadata": {},
   "outputs": [],
   "source": [
    "input_shape = [X.shape[1]]"
   ]
  },
  {
   "cell_type": "code",
   "execution_count": 158,
   "metadata": {},
   "outputs": [],
   "source": [
    "from tensorflow import keras\n",
    "from tensorflow.keras import layers\n"
   ]
  },
  {
   "cell_type": "code",
   "execution_count": 159,
   "metadata": {},
   "outputs": [],
   "source": [
    "model = keras.Sequential([\n",
    "    layers.BatchNormalization(input_shape = input_shape),\n",
    "    layers.Dropout(rate = 0.2),\n",
    "    layers.Dense(18, activation = \"relu\"),\n",
    "    layers.BatchNormalization(),\n",
    "    layers.Dropout(rate = 0.2),\n",
    "    layers.Dense(18, activation = \"relu\"),\n",
    "    layers.Dense(1)\n",
    "])"
   ]
  },
  {
   "cell_type": "code",
   "execution_count": 160,
   "metadata": {},
   "outputs": [],
   "source": [
    "model.compile(\n",
    "    loss = \"mae\",\n",
    "    optimizer = \"adam\"\n",
    ")"
   ]
  },
  {
   "cell_type": "code",
   "execution_count": 161,
   "metadata": {},
   "outputs": [],
   "source": [
    "from tensorflow.keras.callbacks import EarlyStopping\n",
    "\n",
    "early_stopping = EarlyStopping(\n",
    "    min_delta = 0.1,\n",
    "    patience = 100,\n",
    "    restore_best_weights = True\n",
    ")"
   ]
  },
  {
   "cell_type": "code",
   "execution_count": 162,
   "metadata": {},
   "outputs": [
    {
     "name": "stdout",
     "output_type": "stream",
     "text": [
      "Epoch 1/10000\n",
      "22/22 [==============================] - 0s 11ms/step - loss: 9.1973 - val_loss: 9.2122\n",
      "Epoch 2/10000\n",
      "22/22 [==============================] - 0s 3ms/step - loss: 8.6180 - val_loss: 8.3980\n",
      "Epoch 3/10000\n",
      "22/22 [==============================] - 0s 5ms/step - loss: 8.0694 - val_loss: 7.5448\n",
      "Epoch 4/10000\n",
      "22/22 [==============================] - 0s 4ms/step - loss: 7.4371 - val_loss: 6.6209\n",
      "Epoch 5/10000\n",
      "22/22 [==============================] - 0s 3ms/step - loss: 6.7829 - val_loss: 5.5447\n",
      "Epoch 6/10000\n",
      "22/22 [==============================] - 0s 4ms/step - loss: 6.0106 - val_loss: 4.5484\n",
      "Epoch 7/10000\n",
      "22/22 [==============================] - 0s 4ms/step - loss: 5.5442 - val_loss: 3.7259\n",
      "Epoch 8/10000\n",
      "22/22 [==============================] - 0s 4ms/step - loss: 5.1337 - val_loss: 2.8929\n",
      "Epoch 9/10000\n",
      "22/22 [==============================] - 0s 4ms/step - loss: 4.5208 - val_loss: 2.2480\n",
      "Epoch 10/10000\n",
      "22/22 [==============================] - 0s 4ms/step - loss: 4.1195 - val_loss: 1.8689\n",
      "Epoch 11/10000\n",
      "22/22 [==============================] - 0s 4ms/step - loss: 3.9072 - val_loss: 1.5818\n",
      "Epoch 12/10000\n",
      "22/22 [==============================] - 0s 3ms/step - loss: 3.8204 - val_loss: 1.3634\n",
      "Epoch 13/10000\n",
      "22/22 [==============================] - 0s 3ms/step - loss: 3.5820 - val_loss: 1.3087\n",
      "Epoch 14/10000\n",
      "22/22 [==============================] - 0s 4ms/step - loss: 3.2459 - val_loss: 1.2514\n",
      "Epoch 15/10000\n",
      "22/22 [==============================] - 0s 4ms/step - loss: 3.4816 - val_loss: 1.2518\n",
      "Epoch 16/10000\n",
      "22/22 [==============================] - 0s 4ms/step - loss: 3.2844 - val_loss: 1.1223\n",
      "Epoch 17/10000\n",
      "22/22 [==============================] - 0s 4ms/step - loss: 3.2587 - val_loss: 1.1307\n",
      "Epoch 18/10000\n",
      "22/22 [==============================] - 0s 3ms/step - loss: 2.9900 - val_loss: 1.1350\n",
      "Epoch 19/10000\n",
      "22/22 [==============================] - 0s 3ms/step - loss: 2.7657 - val_loss: 1.1682\n",
      "Epoch 20/10000\n",
      "22/22 [==============================] - 0s 3ms/step - loss: 3.2269 - val_loss: 1.1268\n",
      "Epoch 21/10000\n",
      "22/22 [==============================] - 0s 3ms/step - loss: 2.9163 - val_loss: 1.1901\n",
      "Epoch 22/10000\n",
      "22/22 [==============================] - 0s 3ms/step - loss: 2.7420 - val_loss: 1.1438\n",
      "Epoch 23/10000\n",
      "22/22 [==============================] - 0s 4ms/step - loss: 2.8466 - val_loss: 1.2140\n",
      "Epoch 24/10000\n",
      "22/22 [==============================] - 0s 5ms/step - loss: 2.8467 - val_loss: 1.1460\n",
      "Epoch 25/10000\n",
      "22/22 [==============================] - 0s 4ms/step - loss: 2.7972 - val_loss: 1.1029\n",
      "Epoch 26/10000\n",
      "22/22 [==============================] - 0s 3ms/step - loss: 2.7831 - val_loss: 1.0928\n",
      "Epoch 27/10000\n",
      "22/22 [==============================] - 0s 3ms/step - loss: 3.0199 - val_loss: 1.0689\n",
      "Epoch 28/10000\n",
      "22/22 [==============================] - 0s 4ms/step - loss: 2.8592 - val_loss: 1.1027\n",
      "Epoch 29/10000\n",
      "22/22 [==============================] - 0s 4ms/step - loss: 2.8463 - val_loss: 1.0792\n",
      "Epoch 30/10000\n",
      "22/22 [==============================] - 0s 4ms/step - loss: 2.7899 - val_loss: 1.1074\n",
      "Epoch 31/10000\n",
      "22/22 [==============================] - 0s 4ms/step - loss: 2.7642 - val_loss: 1.1056\n",
      "Epoch 32/10000\n",
      "22/22 [==============================] - 0s 5ms/step - loss: 2.7206 - val_loss: 1.1133\n",
      "Epoch 33/10000\n",
      "22/22 [==============================] - 0s 4ms/step - loss: 2.8359 - val_loss: 1.1387\n",
      "Epoch 34/10000\n",
      "22/22 [==============================] - 0s 4ms/step - loss: 2.8433 - val_loss: 1.2505\n",
      "Epoch 35/10000\n",
      "22/22 [==============================] - 0s 3ms/step - loss: 2.7956 - val_loss: 1.3068\n",
      "Epoch 36/10000\n",
      "22/22 [==============================] - 0s 3ms/step - loss: 2.7567 - val_loss: 1.1966\n",
      "Epoch 37/10000\n",
      "22/22 [==============================] - 0s 4ms/step - loss: 2.7645 - val_loss: 1.1572\n",
      "Epoch 38/10000\n",
      "22/22 [==============================] - 0s 4ms/step - loss: 2.8375 - val_loss: 1.1360\n",
      "Epoch 39/10000\n",
      "22/22 [==============================] - 0s 4ms/step - loss: 2.6364 - val_loss: 1.1710\n",
      "Epoch 40/10000\n",
      "22/22 [==============================] - 0s 4ms/step - loss: 2.8738 - val_loss: 1.2124\n",
      "Epoch 41/10000\n",
      "22/22 [==============================] - 0s 6ms/step - loss: 2.6536 - val_loss: 1.2089\n",
      "Epoch 42/10000\n",
      "22/22 [==============================] - 0s 4ms/step - loss: 2.7014 - val_loss: 1.1836\n",
      "Epoch 43/10000\n",
      "22/22 [==============================] - 0s 4ms/step - loss: 2.7628 - val_loss: 1.2346\n",
      "Epoch 44/10000\n",
      "22/22 [==============================] - 0s 4ms/step - loss: 2.5470 - val_loss: 1.2333\n",
      "Epoch 45/10000\n",
      "22/22 [==============================] - 0s 4ms/step - loss: 2.7823 - val_loss: 1.2324\n",
      "Epoch 46/10000\n",
      "22/22 [==============================] - 0s 4ms/step - loss: 2.7677 - val_loss: 1.1697\n",
      "Epoch 47/10000\n",
      "22/22 [==============================] - 0s 5ms/step - loss: 2.6471 - val_loss: 1.1189\n",
      "Epoch 48/10000\n",
      "22/22 [==============================] - 0s 4ms/step - loss: 2.6501 - val_loss: 1.1651\n",
      "Epoch 49/10000\n",
      "22/22 [==============================] - 0s 4ms/step - loss: 2.6328 - val_loss: 1.2042\n",
      "Epoch 50/10000\n",
      "22/22 [==============================] - 0s 4ms/step - loss: 2.6651 - val_loss: 1.2226\n",
      "Epoch 51/10000\n",
      "22/22 [==============================] - 0s 5ms/step - loss: 2.6847 - val_loss: 1.2135\n",
      "Epoch 52/10000\n",
      "22/22 [==============================] - 0s 4ms/step - loss: 2.6595 - val_loss: 1.2117\n",
      "Epoch 53/10000\n",
      "22/22 [==============================] - 0s 4ms/step - loss: 2.6588 - val_loss: 1.1872\n",
      "Epoch 54/10000\n",
      "22/22 [==============================] - 0s 4ms/step - loss: 2.5231 - val_loss: 1.1920\n",
      "Epoch 55/10000\n",
      "22/22 [==============================] - 0s 4ms/step - loss: 2.6863 - val_loss: 1.2255\n",
      "Epoch 56/10000\n",
      "22/22 [==============================] - 0s 4ms/step - loss: 2.6524 - val_loss: 1.2228\n",
      "Epoch 57/10000\n",
      "22/22 [==============================] - 0s 4ms/step - loss: 2.6411 - val_loss: 1.2267\n",
      "Epoch 58/10000\n",
      "22/22 [==============================] - 0s 3ms/step - loss: 2.7349 - val_loss: 1.2865\n",
      "Epoch 59/10000\n",
      "22/22 [==============================] - 0s 4ms/step - loss: 2.5582 - val_loss: 1.3078\n",
      "Epoch 60/10000\n",
      "22/22 [==============================] - 0s 4ms/step - loss: 2.7896 - val_loss: 1.2810\n",
      "Epoch 61/10000\n",
      "22/22 [==============================] - 0s 4ms/step - loss: 2.4153 - val_loss: 1.3517\n",
      "Epoch 62/10000\n",
      "22/22 [==============================] - 0s 4ms/step - loss: 2.6127 - val_loss: 1.3582\n",
      "Epoch 63/10000\n",
      "22/22 [==============================] - 0s 3ms/step - loss: 2.5801 - val_loss: 1.2849\n",
      "Epoch 64/10000\n",
      "22/22 [==============================] - 0s 4ms/step - loss: 2.7564 - val_loss: 1.3167\n",
      "Epoch 65/10000\n",
      "22/22 [==============================] - 0s 4ms/step - loss: 2.6779 - val_loss: 1.3451\n",
      "Epoch 66/10000\n",
      "22/22 [==============================] - 0s 3ms/step - loss: 2.5839 - val_loss: 1.3325\n",
      "Epoch 67/10000\n",
      "22/22 [==============================] - 0s 3ms/step - loss: 2.5553 - val_loss: 1.3180\n",
      "Epoch 68/10000\n",
      "22/22 [==============================] - 0s 3ms/step - loss: 2.5970 - val_loss: 1.2843\n",
      "Epoch 69/10000\n",
      "22/22 [==============================] - 0s 4ms/step - loss: 2.7326 - val_loss: 1.2879\n",
      "Epoch 70/10000\n",
      "22/22 [==============================] - 0s 4ms/step - loss: 2.5048 - val_loss: 1.2768\n",
      "Epoch 71/10000\n",
      "22/22 [==============================] - 0s 4ms/step - loss: 2.5993 - val_loss: 1.2353\n",
      "Epoch 72/10000\n",
      "22/22 [==============================] - 0s 4ms/step - loss: 2.6433 - val_loss: 1.2249\n",
      "Epoch 73/10000\n",
      "22/22 [==============================] - 0s 4ms/step - loss: 2.6610 - val_loss: 1.2931\n",
      "Epoch 74/10000\n",
      "22/22 [==============================] - 0s 4ms/step - loss: 2.6014 - val_loss: 1.2344\n",
      "Epoch 75/10000\n",
      "22/22 [==============================] - 0s 4ms/step - loss: 2.5143 - val_loss: 1.2128\n",
      "Epoch 76/10000\n",
      "22/22 [==============================] - 0s 4ms/step - loss: 2.6972 - val_loss: 1.2203\n",
      "Epoch 77/10000\n",
      "22/22 [==============================] - 0s 4ms/step - loss: 2.6241 - val_loss: 1.2203\n",
      "Epoch 78/10000\n",
      "22/22 [==============================] - 0s 4ms/step - loss: 2.7042 - val_loss: 1.2477\n",
      "Epoch 79/10000\n",
      "22/22 [==============================] - 0s 4ms/step - loss: 2.5118 - val_loss: 1.2704\n",
      "Epoch 80/10000\n",
      "22/22 [==============================] - 0s 4ms/step - loss: 2.6011 - val_loss: 1.2596\n",
      "Epoch 81/10000\n"
     ]
    },
    {
     "name": "stdout",
     "output_type": "stream",
     "text": [
      "22/22 [==============================] - 0s 4ms/step - loss: 2.6228 - val_loss: 1.2787\n",
      "Epoch 82/10000\n",
      "22/22 [==============================] - 0s 4ms/step - loss: 2.6429 - val_loss: 1.3164\n",
      "Epoch 83/10000\n",
      "22/22 [==============================] - 0s 4ms/step - loss: 2.6357 - val_loss: 1.2919\n",
      "Epoch 84/10000\n",
      "22/22 [==============================] - 0s 4ms/step - loss: 2.4513 - val_loss: 1.2854\n",
      "Epoch 85/10000\n",
      "22/22 [==============================] - 0s 4ms/step - loss: 2.5833 - val_loss: 1.3039\n",
      "Epoch 86/10000\n",
      "22/22 [==============================] - 0s 4ms/step - loss: 2.4794 - val_loss: 1.3380\n",
      "Epoch 87/10000\n",
      "22/22 [==============================] - 0s 3ms/step - loss: 2.5541 - val_loss: 1.2904\n",
      "Epoch 88/10000\n",
      "22/22 [==============================] - 0s 3ms/step - loss: 2.6217 - val_loss: 1.2502\n",
      "Epoch 89/10000\n",
      "22/22 [==============================] - 0s 4ms/step - loss: 2.5078 - val_loss: 1.2386\n",
      "Epoch 90/10000\n",
      "22/22 [==============================] - 0s 4ms/step - loss: 2.5346 - val_loss: 1.3092\n",
      "Epoch 91/10000\n",
      "22/22 [==============================] - 0s 4ms/step - loss: 2.6471 - val_loss: 1.3537\n",
      "Epoch 92/10000\n",
      "22/22 [==============================] - 0s 4ms/step - loss: 2.6773 - val_loss: 1.2883\n",
      "Epoch 93/10000\n",
      "22/22 [==============================] - 0s 4ms/step - loss: 2.5486 - val_loss: 1.2811\n",
      "Epoch 94/10000\n",
      "22/22 [==============================] - 0s 4ms/step - loss: 2.5476 - val_loss: 1.2609\n",
      "Epoch 95/10000\n",
      "22/22 [==============================] - 0s 4ms/step - loss: 2.5518 - val_loss: 1.2955\n",
      "Epoch 96/10000\n",
      "22/22 [==============================] - 0s 4ms/step - loss: 2.6303 - val_loss: 1.2831\n",
      "Epoch 97/10000\n",
      "22/22 [==============================] - 0s 4ms/step - loss: 2.5697 - val_loss: 1.3337\n",
      "Epoch 98/10000\n",
      "22/22 [==============================] - 0s 4ms/step - loss: 2.6749 - val_loss: 1.3048\n",
      "Epoch 99/10000\n",
      "22/22 [==============================] - 0s 5ms/step - loss: 2.5575 - val_loss: 1.2691\n",
      "Epoch 100/10000\n",
      "22/22 [==============================] - 0s 4ms/step - loss: 2.3971 - val_loss: 1.2711\n",
      "Epoch 101/10000\n",
      "22/22 [==============================] - 0s 5ms/step - loss: 2.6996 - val_loss: 1.2622\n",
      "Epoch 102/10000\n",
      "22/22 [==============================] - 0s 4ms/step - loss: 2.5479 - val_loss: 1.2835\n",
      "Epoch 103/10000\n",
      "22/22 [==============================] - 0s 4ms/step - loss: 2.6348 - val_loss: 1.2949\n",
      "Epoch 104/10000\n",
      "22/22 [==============================] - 0s 4ms/step - loss: 2.6286 - val_loss: 1.3142\n",
      "Epoch 105/10000\n",
      "22/22 [==============================] - 0s 4ms/step - loss: 2.5267 - val_loss: 1.3014\n",
      "Epoch 106/10000\n",
      "22/22 [==============================] - 0s 5ms/step - loss: 2.7008 - val_loss: 1.3084\n",
      "Epoch 107/10000\n",
      "22/22 [==============================] - 0s 4ms/step - loss: 2.6505 - val_loss: 1.2854\n",
      "Epoch 108/10000\n",
      "22/22 [==============================] - 0s 4ms/step - loss: 2.4873 - val_loss: 1.2534\n",
      "Epoch 109/10000\n",
      "22/22 [==============================] - 0s 4ms/step - loss: 2.5215 - val_loss: 1.2816\n",
      "Epoch 110/10000\n",
      "22/22 [==============================] - 0s 4ms/step - loss: 2.7251 - val_loss: 1.3060\n",
      "Epoch 111/10000\n",
      "22/22 [==============================] - 0s 4ms/step - loss: 2.5427 - val_loss: 1.3283\n",
      "Epoch 112/10000\n",
      "22/22 [==============================] - 0s 4ms/step - loss: 2.6467 - val_loss: 1.2937\n",
      "Epoch 113/10000\n",
      "22/22 [==============================] - 0s 4ms/step - loss: 2.6185 - val_loss: 1.2677\n",
      "Epoch 114/10000\n",
      "22/22 [==============================] - 0s 4ms/step - loss: 2.4988 - val_loss: 1.2667\n",
      "Epoch 115/10000\n",
      "22/22 [==============================] - 0s 4ms/step - loss: 2.4814 - val_loss: 1.3030\n",
      "Epoch 116/10000\n",
      "22/22 [==============================] - 0s 5ms/step - loss: 2.7006 - val_loss: 1.2543\n"
     ]
    }
   ],
   "source": [
    "history = model.fit(\n",
    "    X_train, y_train,\n",
    "    validation_data = (X_valid, y_valid),\n",
    "    batch_size = 10,\n",
    "    epochs = 10000,\n",
    "    callbacks = [early_stopping]\n",
    ")"
   ]
  },
  {
   "cell_type": "code",
   "execution_count": 163,
   "metadata": {},
   "outputs": [
    {
     "data": {
      "text/plain": [
       "<AxesSubplot:>"
      ]
     },
     "execution_count": 163,
     "metadata": {},
     "output_type": "execute_result"
    },
    {
     "data": {
      "image/png": "[encoded data removed]",
      "text/plain": [
       "<Figure size 432x288 with 1 Axes>"
      ]
     },
     "metadata": {
      "needs_background": "light"
     },
     "output_type": "display_data"
    }
   ],
   "source": [
    "import matplotlib.pyplot as plt\n",
    "history_df = pd.DataFrame(history.history)\n",
    "history_df.loc[:, [\"loss\", \"val_loss\"]].plot()"
   ]
  },
  {
   "cell_type": "code",
   "execution_count": 167,
   "metadata": {},
   "outputs": [
    {
     "name": "stdout",
     "output_type": "stream",
     "text": [
      "[[8.9467745]]\n"
     ]
    }
   ],
   "source": [
    "game_1 = np.array([17,8,1,1,5,5,4,4]).reshape(1,8)\n",
    "print(model.predict(game_1))\n",
    "#true score 11"
   ]
  },
  {
   "cell_type": "code",
   "execution_count": 168,
   "metadata": {},
   "outputs": [
    {
     "name": "stdout",
     "output_type": "stream",
     "text": [
      "[[7.41287]]\n"
     ]
    }
   ],
   "source": [
    "game_2 = np.array([3,12,1,3,5,3,4,4]).reshape(1,8)\n",
    "print(model.predict(game_2))\n",
    "#true score 13"
   ]
  },
  {
   "cell_type": "code",
   "execution_count": null,
   "metadata": {},
   "outputs": [],
   "source": [
    "#underfitting\n",
    "#very small sample\n",
    "#I will increase it"
   ]
  }
 ],
 "metadata": {
  "kernelspec": {
   "display_name": "Python 3",
   "language": "python",
   "name": "python3"
  },
  "language_info": {
   "codemirror_mode": {
    "name": "ipython",
    "version": 3
   },
   "file_extension": ".py",
   "mimetype": "text/x-python",
   "name": "python",
   "nbconvert_exporter": "python",
   "pygments_lexer": "ipython3",
   "version": "3.8.6"
  }
 },
 "nbformat": 4,
 "nbformat_minor": 4
}
